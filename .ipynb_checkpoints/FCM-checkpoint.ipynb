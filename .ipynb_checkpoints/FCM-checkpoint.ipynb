{
 "cells": [
  {
   "cell_type": "code",
   "execution_count": 1,
   "metadata": {},
   "outputs": [],
   "source": [
    "import pandas as pd\n",
    "import numpy as np\n",
    "from matplotlib import pyplot as plt\n",
    "from matplotlib import style\n",
    "import random\n",
    "from scipy.spatial import distance\n",
    "\n"
   ]
  },
  {
   "cell_type": "code",
   "execution_count": null,
   "metadata": {},
   "outputs": [],
   "source": [
    "def read_dataset(path, name):\n",
    "    df = pd.read_csv(path + name, header=None)\n",
    "    return df"
   ]
  },
  {
   "cell_type": "code",
   "execution_count": null,
   "metadata": {},
   "outputs": [],
   "source": [
    "def initialize_membership_matrix(df, k):\n",
    "    membership_matrix = np.random.dirichlet(np.ones(k),size=len(df))\n",
    "\n",
    "    return membership_matrix"
   ]
  },
  {
   "cell_type": "code",
   "execution_count": null,
   "metadata": {},
   "outputs": [],
   "source": [
    "def find_centroids(df, k, membership_matrix, m):\n",
    "    centroids = np.zeros((k, len(df.columns)))\n",
    "    df_membership = df.copy()\n",
    "    for i in range (k):\n",
    "        df_membership[len(df_membership.columns)] = membership_matrix[:len(membership_matrix),i].tolist()\n",
    "\n",
    "    for i in range(k):\n",
    "        for j in range (len(df.columns)):\n",
    "            sum_membership = sum(np.power(df_membership[i+len(df.columns)], m))\n",
    "            c = sum(np.multiply(np.power(df_membership[i+len(df.columns)], m), df_membership[j]))/sum_membership\n",
    "            centroids[i, j] = c\n",
    "\n",
    "    return centroids    "
   ]
  },
  {
   "cell_type": "code",
   "execution_count": null,
   "metadata": {},
   "outputs": [],
   "source": [
    "def calculate_membership_matrix(df, centroids):\n",
    "    "
   ]
  },
  {
   "cell_type": "code",
   "execution_count": null,
   "metadata": {},
   "outputs": [],
   "source": [
    "df = read_dataset(\"datasets/\", \"data2.csv\")\n",
    "print(df)"
   ]
  },
  {
   "cell_type": "code",
   "execution_count": null,
   "metadata": {},
   "outputs": [],
   "source": [
    "k = 4\n",
    "membership_matrix = initialize_membership_matrix(df, k)\n",
    "centroids = find_centroids(df, k, membership_matrix, 2)\n",
    "print(centroids)"
   ]
  },
  {
   "cell_type": "code",
   "execution_count": null,
   "metadata": {},
   "outputs": [],
   "source": [
    "EuclidianDistance = df.copy()\n",
    "for i in range(0, k):\n",
    "    x = 0\n",
    "    for j in range(0, len(df.columns)):\n",
    "        x = np.add(x, (df.iloc[ : , j] - centroids[i,j])**2)\n",
    "    x = np.sqrt(x)\n",
    "    EuclidianDistance[len(EuclidianDistance.columns)] = x.tolist()\n",
    "print(EuclidianDistance)\n",
    "sum = EuclidianDistance.iloc[:, len(df.columns):len(EuclidianDistance.columns)].sum(axis=1)\n",
    "# sum[len(sum).column] = sum\n",
    "# print(sum)\n",
    "\n",
    "# membership_matrix = df.copy()\n",
    "\n",
    "\n"
   ]
  },
  {
   "cell_type": "code",
   "execution_count": null,
   "metadata": {},
   "outputs": [],
   "source": []
  }
 ],
 "metadata": {
  "kernelspec": {
   "display_name": "Python 3",
   "language": "python",
   "name": "python3"
  },
  "language_info": {
   "codemirror_mode": {
    "name": "ipython",
    "version": 3
   },
   "file_extension": ".py",
   "mimetype": "text/x-python",
   "name": "python",
   "nbconvert_exporter": "python",
   "pygments_lexer": "ipython3",
   "version": "3.8.3"
  }
 },
 "nbformat": 4,
 "nbformat_minor": 2
}
