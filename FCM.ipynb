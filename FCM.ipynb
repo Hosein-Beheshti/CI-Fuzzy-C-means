{
 "metadata": {
  "language_info": {
   "codemirror_mode": {
    "name": "ipython",
    "version": 3
   },
   "file_extension": ".py",
   "mimetype": "text/x-python",
   "name": "python",
   "nbconvert_exporter": "python",
   "pygments_lexer": "ipython3",
   "version": "3.8.3"
  },
  "orig_nbformat": 2,
  "kernelspec": {
   "name": "python383jvsc74a57bd07ec3019a7cb8f5739f8b27d55fc304c51580b268fd2b34191f81e31e11772118",
   "display_name": "Python 3.8.3 64-bit"
  }
 },
 "nbformat": 4,
 "nbformat_minor": 2,
 "cells": [
  {
   "cell_type": "code",
   "execution_count": 1,
   "metadata": {},
   "outputs": [],
   "source": [
    "import pandas as pd\n",
    "import numpy as np\n",
    "from matplotlib import pyplot as plt\n",
    "from matplotlib import style\n",
    "\n"
   ]
  },
  {
   "cell_type": "code",
   "execution_count": 2,
   "metadata": {},
   "outputs": [],
   "source": [
    "def read_dataset(path, name):\n",
    "    df = pd.read_csv(path + name, header=None)\n",
    "    return df"
   ]
  },
  {
   "cell_type": "code",
   "execution_count": 3,
   "metadata": {},
   "outputs": [],
   "source": [
    "def initialize_membership_matrix(df, k):\n",
    "    membership_matrix = np.random.dirichlet(np.ones(k),size=len(df))\n",
    "    df_membership_matrix = pd.DataFrame(membership_matrix)\n",
    "    return df_membership_matrix"
   ]
  },
  {
   "cell_type": "code",
   "execution_count": 4,
   "metadata": {},
   "outputs": [],
   "source": [
    "def find_centroids(df, k, membership_matrix, m):\n",
    "    centroids = np.zeros((k, len(df.columns)))\n",
    "\n",
    "    for i in range(k):\n",
    "        sum_membership = sum(np.power(membership_matrix[i], m))\n",
    "        for j in range (len(df.columns)):\n",
    "            c = sum(np.multiply(np.power(membership_matrix[i], m), df[j]))/sum_membership\n",
    "            centroids[i, j] = c\n",
    "\n",
    "    return centroids    "
   ]
  },
  {
   "cell_type": "code",
   "execution_count": 5,
   "metadata": {},
   "outputs": [],
   "source": [
    "def calculate_membership_matrix(df, centroids):\n",
    "    m = 2\n",
    "    EuclidianDistance = pd.DataFrame()\n",
    "    inverse_EuclidianDistance = pd.DataFrame()\n",
    "    membership_matrix = pd.DataFrame()\n",
    "    for i in range(0, len(centroids)):\n",
    "        x = 0\n",
    "        for j in range(0, len(df.columns)):\n",
    "            x = np.add(x, np.power((df.iloc[ : , j] - centroids[i,j]), 2))\n",
    "        x = np.sqrt(x)\n",
    "        EuclidianDistance[len(EuclidianDistance.columns)] = x\n",
    "\n",
    "    inverse_EuclidianDistance = np.power((1 / EuclidianDistance), 1/(m-1))\n",
    "    sum = inverse_EuclidianDistance.sum(axis=1)\n",
    "\n",
    "    for i in range(k):\n",
    "        membership_matrix[len(membership_matrix.columns)] = 1 / np.power(EuclidianDistance[i], 1/(m-1))  / sum\n",
    "\n",
    "    return membership_matrix   "
   ]
  },
  {
   "cell_type": "code",
   "execution_count": 6,
   "metadata": {},
   "outputs": [],
   "source": [
    "def c_means(df, k, max_it):\n",
    "    #initialing weights randomly\n",
    "    membership_matrix = initialize_membership_matrix(df, k)\n",
    "    centroids = np.zeros((k, len(df.columns)))\n",
    "    for i in range(max_it):\n",
    "        temp_centroids = find_centroids(df, k, membership_matrix, 2)\n",
    "        if centroids.all == temp_centroids.all:\n",
    "            print(\"clustering finished, it\", i)\n",
    "            return\n",
    "        centroids = temp_centroids\n",
    "        membership_matrix = calculate_membership_matrix(df, centroids)\n",
    "\n",
    "    return membership_matrix"
   ]
  },
  {
   "cell_type": "code",
   "execution_count": 7,
   "metadata": {},
   "outputs": [
    {
     "output_type": "execute_result",
     "data": {
      "text/plain": [
       "             0         1         2         3\n",
       "0     0.432610  0.382513  0.417406  0.381025\n",
       "1     0.804723  0.846790  0.827204  0.841531\n",
       "2     0.399435  0.445441  0.377028  0.407129\n",
       "3     0.586848  0.605577  0.664818  0.654835\n",
       "4     0.745649  0.727290  0.773916  0.754974\n",
       "...        ...       ...       ...       ...\n",
       "1207  0.105985  0.183894  0.190385  0.137578\n",
       "1208  0.660885  0.599424  0.678428  0.630584\n",
       "1209  0.023225  0.045101  0.101654  0.044252\n",
       "1210  0.187667  0.130879  0.143621  0.177495\n",
       "1211  0.743291  0.719453  0.771260  0.771595\n",
       "\n",
       "[1212 rows x 4 columns]"
      ],
      "text/html": "<div>\n<style scoped>\n    .dataframe tbody tr th:only-of-type {\n        vertical-align: middle;\n    }\n\n    .dataframe tbody tr th {\n        vertical-align: top;\n    }\n\n    .dataframe thead th {\n        text-align: right;\n    }\n</style>\n<table border=\"1\" class=\"dataframe\">\n  <thead>\n    <tr style=\"text-align: right;\">\n      <th></th>\n      <th>0</th>\n      <th>1</th>\n      <th>2</th>\n      <th>3</th>\n    </tr>\n  </thead>\n  <tbody>\n    <tr>\n      <th>0</th>\n      <td>0.432610</td>\n      <td>0.382513</td>\n      <td>0.417406</td>\n      <td>0.381025</td>\n    </tr>\n    <tr>\n      <th>1</th>\n      <td>0.804723</td>\n      <td>0.846790</td>\n      <td>0.827204</td>\n      <td>0.841531</td>\n    </tr>\n    <tr>\n      <th>2</th>\n      <td>0.399435</td>\n      <td>0.445441</td>\n      <td>0.377028</td>\n      <td>0.407129</td>\n    </tr>\n    <tr>\n      <th>3</th>\n      <td>0.586848</td>\n      <td>0.605577</td>\n      <td>0.664818</td>\n      <td>0.654835</td>\n    </tr>\n    <tr>\n      <th>4</th>\n      <td>0.745649</td>\n      <td>0.727290</td>\n      <td>0.773916</td>\n      <td>0.754974</td>\n    </tr>\n    <tr>\n      <th>...</th>\n      <td>...</td>\n      <td>...</td>\n      <td>...</td>\n      <td>...</td>\n    </tr>\n    <tr>\n      <th>1207</th>\n      <td>0.105985</td>\n      <td>0.183894</td>\n      <td>0.190385</td>\n      <td>0.137578</td>\n    </tr>\n    <tr>\n      <th>1208</th>\n      <td>0.660885</td>\n      <td>0.599424</td>\n      <td>0.678428</td>\n      <td>0.630584</td>\n    </tr>\n    <tr>\n      <th>1209</th>\n      <td>0.023225</td>\n      <td>0.045101</td>\n      <td>0.101654</td>\n      <td>0.044252</td>\n    </tr>\n    <tr>\n      <th>1210</th>\n      <td>0.187667</td>\n      <td>0.130879</td>\n      <td>0.143621</td>\n      <td>0.177495</td>\n    </tr>\n    <tr>\n      <th>1211</th>\n      <td>0.743291</td>\n      <td>0.719453</td>\n      <td>0.771260</td>\n      <td>0.771595</td>\n    </tr>\n  </tbody>\n</table>\n<p>1212 rows × 4 columns</p>\n</div>"
     },
     "metadata": {},
     "execution_count": 7
    }
   ],
   "source": [
    "df = read_dataset(\"datasets/\", \"data2.csv\")\n",
    "df"
   ]
  },
  {
   "cell_type": "code",
   "execution_count": 8,
   "metadata": {},
   "outputs": [
    {
     "output_type": "error",
     "ename": "UnboundLocalError",
     "evalue": "local variable 'centroids' referenced before assignment",
     "traceback": [
      "\u001b[1;31m---------------------------------------------------------------------------\u001b[0m",
      "\u001b[1;31mUnboundLocalError\u001b[0m                         Traceback (most recent call last)",
      "\u001b[1;32m<ipython-input-8-24a975664867>\u001b[0m in \u001b[0;36m<module>\u001b[1;34m\u001b[0m\n\u001b[0;32m      1\u001b[0m \u001b[0mk\u001b[0m \u001b[1;33m=\u001b[0m \u001b[1;36m5\u001b[0m\u001b[1;33m\u001b[0m\u001b[1;33m\u001b[0m\u001b[0m\n\u001b[0;32m      2\u001b[0m \u001b[0mmax_it\u001b[0m \u001b[1;33m=\u001b[0m \u001b[1;36m500\u001b[0m\u001b[1;33m\u001b[0m\u001b[1;33m\u001b[0m\u001b[0m\n\u001b[1;32m----> 3\u001b[1;33m \u001b[0mc_means\u001b[0m\u001b[1;33m(\u001b[0m\u001b[0mdf\u001b[0m\u001b[1;33m,\u001b[0m \u001b[0mk\u001b[0m\u001b[1;33m,\u001b[0m \u001b[0mmax_it\u001b[0m\u001b[1;33m)\u001b[0m\u001b[1;33m\u001b[0m\u001b[1;33m\u001b[0m\u001b[0m\n\u001b[0m",
      "\u001b[1;32m<ipython-input-6-285725bef1eb>\u001b[0m in \u001b[0;36mc_means\u001b[1;34m(df, k, max_it)\u001b[0m\n\u001b[0;32m      5\u001b[0m     \u001b[1;32mfor\u001b[0m \u001b[0mi\u001b[0m \u001b[1;32min\u001b[0m \u001b[0mrange\u001b[0m\u001b[1;33m(\u001b[0m\u001b[0mmax_it\u001b[0m\u001b[1;33m)\u001b[0m\u001b[1;33m:\u001b[0m\u001b[1;33m\u001b[0m\u001b[1;33m\u001b[0m\u001b[0m\n\u001b[0;32m      6\u001b[0m         \u001b[0mtemp_centroids\u001b[0m \u001b[1;33m=\u001b[0m \u001b[0mfind_centroids\u001b[0m\u001b[1;33m(\u001b[0m\u001b[0mdf\u001b[0m\u001b[1;33m,\u001b[0m \u001b[0mk\u001b[0m\u001b[1;33m,\u001b[0m \u001b[0mmembership_matrix\u001b[0m\u001b[1;33m,\u001b[0m \u001b[1;36m2\u001b[0m\u001b[1;33m)\u001b[0m\u001b[1;33m\u001b[0m\u001b[1;33m\u001b[0m\u001b[0m\n\u001b[1;32m----> 7\u001b[1;33m         \u001b[1;32mif\u001b[0m \u001b[0mcentroids\u001b[0m\u001b[1;33m.\u001b[0m\u001b[0mall\u001b[0m \u001b[1;33m==\u001b[0m \u001b[0mtemp_centroids\u001b[0m\u001b[1;33m.\u001b[0m\u001b[0mall\u001b[0m \u001b[1;32mand\u001b[0m \u001b[0mi\u001b[0m \u001b[1;33m>\u001b[0m \u001b[1;36m0\u001b[0m\u001b[1;33m:\u001b[0m\u001b[1;33m\u001b[0m\u001b[1;33m\u001b[0m\u001b[0m\n\u001b[0m\u001b[0;32m      8\u001b[0m             \u001b[0mprint\u001b[0m\u001b[1;33m(\u001b[0m\u001b[1;34m\"clustering finished, it\"\u001b[0m\u001b[1;33m,\u001b[0m \u001b[0mi\u001b[0m\u001b[1;33m)\u001b[0m\u001b[1;33m\u001b[0m\u001b[1;33m\u001b[0m\u001b[0m\n\u001b[0;32m      9\u001b[0m             \u001b[1;32mreturn\u001b[0m\u001b[1;33m\u001b[0m\u001b[1;33m\u001b[0m\u001b[0m\n",
      "\u001b[1;31mUnboundLocalError\u001b[0m: local variable 'centroids' referenced before assignment"
     ]
    }
   ],
   "source": [
    "k = 5\n",
    "max_it = 500\n",
    "c_means(df, k, max_it)"
   ]
  },
  {
   "cell_type": "code",
   "execution_count": null,
   "metadata": {},
   "outputs": [],
   "source": []
  }
 ]
}